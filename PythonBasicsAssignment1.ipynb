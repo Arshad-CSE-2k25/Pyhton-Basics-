{
  "nbformat": 4,
  "nbformat_minor": 0,
  "metadata": {
    "colab": {
      "provenance": []
    },
    "kernelspec": {
      "name": "python3",
      "display_name": "Python 3"
    },
    "language_info": {
      "name": "python"
    }
  },
  "cells": [
    {
      "cell_type": "markdown",
      "source": [
        "#Python Basics Theory questions"
      ],
      "metadata": {
        "id": "PE9kwJLBudbV"
      }
    },
    {
      "cell_type": "markdown",
      "source": [
        "1. What is Pyhton, and why is it popular?\n",
        "   - Python is a high-level, interpreted programming language known for its simplicity, readability, and versatility. It's designed to be easy to understand and write, with a syntax that closely resembles English, making it a great choice for beginners and experienced developers alike.\n",
        "\n",
        "   Its popular because its easy to learn and understand\n",
        "   Its so versatile.\n",
        "   It has huge set of libraries and frameworks\n",
        "\n",
        "2. What is an interpreter in pyhton?\n",
        "   - an interpreter in Python is a program that reads and executes Python code line by line, translating it into machine instructions at runtime. Unlike compiled languages, which convert code into machine language beforehand, Python code is executed directly by the interpreter, making it easier to debug and platform-independent.\n",
        "\n",
        "3. What are pre defined keywords in pyhton?\n",
        "   - In Python, predefined keywords (also called reserved words) are special words that have a specific meaning in the language and cannot be used as identifiers (like variable names, function names, etc.). They are part of Python's syntax and control the flow or behavior of the language.\n",
        "\n",
        "    Some examples of predefined keywords include:\n",
        "\n",
        "    if, else, elif (used for conditional statements)\n",
        "    for, while (used for loops)\n",
        "    def (used to define functions)\n",
        "    class (used to define classes)\n",
        "    import (used to import modules)\n",
        "    return (used to return a value from a function)\n",
        "    True, False (represent boolean values)\n",
        "    None (represents a null value)\n",
        "\n",
        "4. Can keywords be used as variable names?\n",
        "   - No, keywords in Python cannot be used as variable names. They are reserved by the language for specific purposes (like control flow, defining functions, etc.), and attempting to use them as variables will result in a syntax error.\n",
        "\n",
        "5. What is mutability in Python?\n",
        "   - Mutability in Python refers to whether an object can be changed after it is created.\n",
        "\n",
        "    Mutable objects can be modified after creation. Examples include lists, dictionaries, and sets.\n",
        "    Immutable objects cannot be changed once they are created. Examples include strings, tuples, and integers.\n",
        "    For example:\n",
        "\n",
        "    A list is mutable:\n",
        "    python\n",
        "    Copy\n",
        "    Edit\n",
        "    lst = [1, 2, 3]\n",
        "    lst[0] = 10  # The list is changed to [10, 2, 3]\n",
        "    A string is immutable\n",
        "\n",
        "6. Why are lists mutable, but tuples are immutable?\n",
        "   - Lists are mutable because they are designed to store collections of items that can be changed (e.g., adding or removing elements). Tuples are immutable because they are meant to represent fixed, unchangeable collections, ensuring data integrity and improving performance in cases where the data shouldn't change.\n",
        "\n",
        "7. What is the difference between '==' and 'is' operators in python?\n",
        "   -  == checks if values are the same, while is checks if they are the same object in memory\n",
        "\n",
        "8. What are logical operators in pyhton?\n",
        "   - In Python, logical operators are:\n",
        "\n",
        "    and: Returns True if both conditions are true.\n",
        "    Example: True and True → True\n",
        "    or: Returns True if at least one condition is true.\n",
        "    Example: True or False → True\n",
        "    not: Reverses the truth value of a condition.\n",
        "    Example: not True → False\n",
        "\n",
        "9. What is type casting in pyhton?\n",
        "   - Type casting helps convert variables from one data type to another.\n",
        "\n",
        "10. What is the difference between impicit and explicit type casting?\n",
        "   - Implicit type casting is when Python automatically converts one data type to another when it's safe, like converting an integer to a float in a calculation. Explicit type casting is when you manually convert a value to a specific type using functions like int(), float(), or str(). In short, implicit casting is automatic, while explicit casting requires you to specify the conversion.\n",
        "\n",
        "11. What is the purpose of conditional statement in pyhton?\n",
        "    - The purpose of a conditional statement in Python is to allow the program to make decisions and execute specific code based on whether a condition is True or False. It helps control the flow of the program.\n",
        "\n",
        "12. How does the elif statement work?\n",
        "    - The elif statement in Python is used to check multiple conditions. It comes after an if statement and allows you to test additional conditions if the previous if (or elif) condition is False. If the condition in the elif is True, its corresponding block of code is executed.\n",
        "\n",
        "13. What is the difference between for and while loops?\n",
        "    - A for loop in Python iterates over a sequence (like a list, range, or string) and executes a block of code for each item in that sequence.\n",
        "\n",
        "14. Describe a scenario where a loop is more suitable than a for loop?\n",
        "    - A while loop is more suitable than a for loop when you don't know in advance how many times you need to iterate, and the loop should continue until a specific condition is met. For example, if you're waiting for user input or checking for a certain condition to be true, a while loop works best."
      ],
      "metadata": {
        "id": "Kka1S3N6ukiS"
      }
    },
    {
      "cell_type": "code",
      "source": [
        "#Write a pyhton program to print \"Hello, World!\""
      ],
      "metadata": {
        "id": "zHJC39b08L6S"
      },
      "execution_count": null,
      "outputs": []
    },
    {
      "cell_type": "code",
      "execution_count": 1,
      "metadata": {
        "colab": {
          "base_uri": "https://localhost:8080/"
        },
        "id": "NjitTIMbtsNK",
        "outputId": "f759bbbe-b717-43d1-b575-fc518c5a26d4"
      },
      "outputs": [
        {
          "output_type": "stream",
          "name": "stdout",
          "text": [
            "Hello, World!\n"
          ]
        }
      ],
      "source": [
        "print(\"Hello, World!\")"
      ]
    },
    {
      "cell_type": "code",
      "source": [
        "# Write a python program that displays your name and age"
      ],
      "metadata": {
        "id": "SzW3B2BX8fPJ"
      },
      "execution_count": null,
      "outputs": []
    },
    {
      "cell_type": "code",
      "source": [
        "name = \"Md Arshad\"  # Replace with your actual name\n",
        "age = 21  # Replace with your actual age\n",
        "\n",
        "print(\"Name:\", name)\n",
        "print(\"Age:\", age)"
      ],
      "metadata": {
        "colab": {
          "base_uri": "https://localhost:8080/"
        },
        "id": "62wrwlMo8pHd",
        "outputId": "c8ddd2a1-575d-4a1c-8dcf-4dcb23250983"
      },
      "execution_count": 2,
      "outputs": [
        {
          "output_type": "stream",
          "name": "stdout",
          "text": [
            "Name: Md Arshad\n",
            "Age: 21\n"
          ]
        }
      ]
    }
  ]
}